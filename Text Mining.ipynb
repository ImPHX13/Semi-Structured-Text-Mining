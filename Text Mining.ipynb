{
 "cells": [
  {
   "cell_type": "code",
   "execution_count": 1,
   "id": "11267c34",
   "metadata": {},
   "outputs": [],
   "source": [
    "# Import Libraries\n",
    "import pandas as pd\n",
    "import numpy as np\n",
    "from sklearn.metrics import accuracy_score\n",
    "from sklearn.ensemble import RandomForestClassifier\n",
    "from sklearn.tree import DecisionTreeClassifier\n",
    "from sklearn.model_selection import GridSearchCV\n",
    "from sklearn.model_selection import RandomizedSearchCV\n",
    "from sklearn.model_selection import cross_val_score\n",
    "from sklearn.metrics import classification_report, confusion_matrix\n",
    "from sklearn.ensemble import GradientBoostingClassifier\n",
    "from imblearn.over_sampling import SMOTE \n",
    "from collections import Counter\n",
    "\n",
    "from sklearn.feature_selection import SelectFromModel\n",
    "from sklearn.feature_selection import SelectKBest\n",
    "from genetic_selection import GeneticSelectionCV\n",
    "\n",
    "from collections import Counter\n",
    "from sklearn.datasets import make_classification\n",
    "from imblearn.under_sampling import NearMiss\n",
    "\n",
    "from sklearn_genetic import GASearchCV\n",
    "from sklearn_genetic.space import Continuous, Categorical, Integer\n",
    "from sklearn.model_selection import StratifiedKFold\n",
    "\n",
    "\n",
    "import warnings\n",
    "warnings.filterwarnings(\"ignore\")"
   ]
  },
  {
   "cell_type": "code",
   "execution_count": 2,
   "id": "c52cada9",
   "metadata": {},
   "outputs": [
    {
     "data": {
      "text/html": [
       "<div>\n",
       "<style scoped>\n",
       "    .dataframe tbody tr th:only-of-type {\n",
       "        vertical-align: middle;\n",
       "    }\n",
       "\n",
       "    .dataframe tbody tr th {\n",
       "        vertical-align: top;\n",
       "    }\n",
       "\n",
       "    .dataframe thead th {\n",
       "        text-align: right;\n",
       "    }\n",
       "</style>\n",
       "<table border=\"1\" class=\"dataframe\">\n",
       "  <thead>\n",
       "    <tr style=\"text-align: right;\">\n",
       "      <th></th>\n",
       "      <th>ID</th>\n",
       "      <th>var3</th>\n",
       "      <th>var15</th>\n",
       "      <th>imp_ent_var16_ult1</th>\n",
       "      <th>imp_op_var39_comer_ult1</th>\n",
       "      <th>imp_op_var39_comer_ult3</th>\n",
       "      <th>imp_op_var40_comer_ult1</th>\n",
       "      <th>imp_op_var40_comer_ult3</th>\n",
       "      <th>imp_op_var40_efect_ult1</th>\n",
       "      <th>imp_op_var40_efect_ult3</th>\n",
       "      <th>...</th>\n",
       "      <th>saldo_medio_var33_hace2</th>\n",
       "      <th>saldo_medio_var33_hace3</th>\n",
       "      <th>saldo_medio_var33_ult1</th>\n",
       "      <th>saldo_medio_var33_ult3</th>\n",
       "      <th>saldo_medio_var44_hace2</th>\n",
       "      <th>saldo_medio_var44_hace3</th>\n",
       "      <th>saldo_medio_var44_ult1</th>\n",
       "      <th>saldo_medio_var44_ult3</th>\n",
       "      <th>var38</th>\n",
       "      <th>TARGET</th>\n",
       "    </tr>\n",
       "  </thead>\n",
       "  <tbody>\n",
       "    <tr>\n",
       "      <th>0</th>\n",
       "      <td>1</td>\n",
       "      <td>2</td>\n",
       "      <td>23</td>\n",
       "      <td>0.0</td>\n",
       "      <td>0.0</td>\n",
       "      <td>0.0</td>\n",
       "      <td>0.0</td>\n",
       "      <td>0.0</td>\n",
       "      <td>0.0</td>\n",
       "      <td>0.0</td>\n",
       "      <td>...</td>\n",
       "      <td>0.0</td>\n",
       "      <td>0.0</td>\n",
       "      <td>0.0</td>\n",
       "      <td>0.0</td>\n",
       "      <td>0.0</td>\n",
       "      <td>0.0</td>\n",
       "      <td>0.0</td>\n",
       "      <td>0.0</td>\n",
       "      <td>39205.170</td>\n",
       "      <td>0</td>\n",
       "    </tr>\n",
       "    <tr>\n",
       "      <th>1</th>\n",
       "      <td>3</td>\n",
       "      <td>2</td>\n",
       "      <td>34</td>\n",
       "      <td>0.0</td>\n",
       "      <td>0.0</td>\n",
       "      <td>0.0</td>\n",
       "      <td>0.0</td>\n",
       "      <td>0.0</td>\n",
       "      <td>0.0</td>\n",
       "      <td>0.0</td>\n",
       "      <td>...</td>\n",
       "      <td>0.0</td>\n",
       "      <td>0.0</td>\n",
       "      <td>0.0</td>\n",
       "      <td>0.0</td>\n",
       "      <td>0.0</td>\n",
       "      <td>0.0</td>\n",
       "      <td>0.0</td>\n",
       "      <td>0.0</td>\n",
       "      <td>49278.030</td>\n",
       "      <td>0</td>\n",
       "    </tr>\n",
       "    <tr>\n",
       "      <th>2</th>\n",
       "      <td>4</td>\n",
       "      <td>2</td>\n",
       "      <td>23</td>\n",
       "      <td>0.0</td>\n",
       "      <td>0.0</td>\n",
       "      <td>0.0</td>\n",
       "      <td>0.0</td>\n",
       "      <td>0.0</td>\n",
       "      <td>0.0</td>\n",
       "      <td>0.0</td>\n",
       "      <td>...</td>\n",
       "      <td>0.0</td>\n",
       "      <td>0.0</td>\n",
       "      <td>0.0</td>\n",
       "      <td>0.0</td>\n",
       "      <td>0.0</td>\n",
       "      <td>0.0</td>\n",
       "      <td>0.0</td>\n",
       "      <td>0.0</td>\n",
       "      <td>67333.770</td>\n",
       "      <td>0</td>\n",
       "    </tr>\n",
       "    <tr>\n",
       "      <th>3</th>\n",
       "      <td>8</td>\n",
       "      <td>2</td>\n",
       "      <td>37</td>\n",
       "      <td>0.0</td>\n",
       "      <td>195.0</td>\n",
       "      <td>195.0</td>\n",
       "      <td>0.0</td>\n",
       "      <td>0.0</td>\n",
       "      <td>0.0</td>\n",
       "      <td>0.0</td>\n",
       "      <td>...</td>\n",
       "      <td>0.0</td>\n",
       "      <td>0.0</td>\n",
       "      <td>0.0</td>\n",
       "      <td>0.0</td>\n",
       "      <td>0.0</td>\n",
       "      <td>0.0</td>\n",
       "      <td>0.0</td>\n",
       "      <td>0.0</td>\n",
       "      <td>64007.970</td>\n",
       "      <td>0</td>\n",
       "    </tr>\n",
       "    <tr>\n",
       "      <th>4</th>\n",
       "      <td>10</td>\n",
       "      <td>2</td>\n",
       "      <td>39</td>\n",
       "      <td>0.0</td>\n",
       "      <td>0.0</td>\n",
       "      <td>0.0</td>\n",
       "      <td>0.0</td>\n",
       "      <td>0.0</td>\n",
       "      <td>0.0</td>\n",
       "      <td>0.0</td>\n",
       "      <td>...</td>\n",
       "      <td>0.0</td>\n",
       "      <td>0.0</td>\n",
       "      <td>0.0</td>\n",
       "      <td>0.0</td>\n",
       "      <td>0.0</td>\n",
       "      <td>0.0</td>\n",
       "      <td>0.0</td>\n",
       "      <td>0.0</td>\n",
       "      <td>117310.979</td>\n",
       "      <td>0</td>\n",
       "    </tr>\n",
       "  </tbody>\n",
       "</table>\n",
       "<p>5 rows × 371 columns</p>\n",
       "</div>"
      ],
      "text/plain": [
       "   ID  var3  var15  imp_ent_var16_ult1  imp_op_var39_comer_ult1  \\\n",
       "0   1     2     23                 0.0                      0.0   \n",
       "1   3     2     34                 0.0                      0.0   \n",
       "2   4     2     23                 0.0                      0.0   \n",
       "3   8     2     37                 0.0                    195.0   \n",
       "4  10     2     39                 0.0                      0.0   \n",
       "\n",
       "   imp_op_var39_comer_ult3  imp_op_var40_comer_ult1  imp_op_var40_comer_ult3  \\\n",
       "0                      0.0                      0.0                      0.0   \n",
       "1                      0.0                      0.0                      0.0   \n",
       "2                      0.0                      0.0                      0.0   \n",
       "3                    195.0                      0.0                      0.0   \n",
       "4                      0.0                      0.0                      0.0   \n",
       "\n",
       "   imp_op_var40_efect_ult1  imp_op_var40_efect_ult3  ...  \\\n",
       "0                      0.0                      0.0  ...   \n",
       "1                      0.0                      0.0  ...   \n",
       "2                      0.0                      0.0  ...   \n",
       "3                      0.0                      0.0  ...   \n",
       "4                      0.0                      0.0  ...   \n",
       "\n",
       "   saldo_medio_var33_hace2  saldo_medio_var33_hace3  saldo_medio_var33_ult1  \\\n",
       "0                      0.0                      0.0                     0.0   \n",
       "1                      0.0                      0.0                     0.0   \n",
       "2                      0.0                      0.0                     0.0   \n",
       "3                      0.0                      0.0                     0.0   \n",
       "4                      0.0                      0.0                     0.0   \n",
       "\n",
       "   saldo_medio_var33_ult3  saldo_medio_var44_hace2  saldo_medio_var44_hace3  \\\n",
       "0                     0.0                      0.0                      0.0   \n",
       "1                     0.0                      0.0                      0.0   \n",
       "2                     0.0                      0.0                      0.0   \n",
       "3                     0.0                      0.0                      0.0   \n",
       "4                     0.0                      0.0                      0.0   \n",
       "\n",
       "   saldo_medio_var44_ult1  saldo_medio_var44_ult3       var38  TARGET  \n",
       "0                     0.0                     0.0   39205.170       0  \n",
       "1                     0.0                     0.0   49278.030       0  \n",
       "2                     0.0                     0.0   67333.770       0  \n",
       "3                     0.0                     0.0   64007.970       0  \n",
       "4                     0.0                     0.0  117310.979       0  \n",
       "\n",
       "[5 rows x 371 columns]"
      ]
     },
     "execution_count": 2,
     "metadata": {},
     "output_type": "execute_result"
    }
   ],
   "source": [
    "train = pd.read_csv('train.csv')\n",
    "train.head()"
   ]
  },
  {
   "cell_type": "code",
   "execution_count": 3,
   "id": "ccab79b3",
   "metadata": {},
   "outputs": [
    {
     "data": {
      "text/html": [
       "<div>\n",
       "<style scoped>\n",
       "    .dataframe tbody tr th:only-of-type {\n",
       "        vertical-align: middle;\n",
       "    }\n",
       "\n",
       "    .dataframe tbody tr th {\n",
       "        vertical-align: top;\n",
       "    }\n",
       "\n",
       "    .dataframe thead th {\n",
       "        text-align: right;\n",
       "    }\n",
       "</style>\n",
       "<table border=\"1\" class=\"dataframe\">\n",
       "  <thead>\n",
       "    <tr style=\"text-align: right;\">\n",
       "      <th></th>\n",
       "      <th>ID</th>\n",
       "      <th>var3</th>\n",
       "      <th>var15</th>\n",
       "      <th>imp_ent_var16_ult1</th>\n",
       "      <th>imp_op_var39_comer_ult1</th>\n",
       "      <th>imp_op_var39_comer_ult3</th>\n",
       "      <th>imp_op_var40_comer_ult1</th>\n",
       "      <th>imp_op_var40_comer_ult3</th>\n",
       "      <th>imp_op_var40_efect_ult1</th>\n",
       "      <th>imp_op_var40_efect_ult3</th>\n",
       "      <th>...</th>\n",
       "      <th>saldo_medio_var29_ult3</th>\n",
       "      <th>saldo_medio_var33_hace2</th>\n",
       "      <th>saldo_medio_var33_hace3</th>\n",
       "      <th>saldo_medio_var33_ult1</th>\n",
       "      <th>saldo_medio_var33_ult3</th>\n",
       "      <th>saldo_medio_var44_hace2</th>\n",
       "      <th>saldo_medio_var44_hace3</th>\n",
       "      <th>saldo_medio_var44_ult1</th>\n",
       "      <th>saldo_medio_var44_ult3</th>\n",
       "      <th>var38</th>\n",
       "    </tr>\n",
       "  </thead>\n",
       "  <tbody>\n",
       "    <tr>\n",
       "      <th>0</th>\n",
       "      <td>2</td>\n",
       "      <td>2</td>\n",
       "      <td>32</td>\n",
       "      <td>0.0</td>\n",
       "      <td>0.0</td>\n",
       "      <td>0.0</td>\n",
       "      <td>0.0</td>\n",
       "      <td>0.0</td>\n",
       "      <td>0.0</td>\n",
       "      <td>0.0</td>\n",
       "      <td>...</td>\n",
       "      <td>0.0</td>\n",
       "      <td>0.0</td>\n",
       "      <td>0.0</td>\n",
       "      <td>0.0</td>\n",
       "      <td>0.0</td>\n",
       "      <td>0.0</td>\n",
       "      <td>0.0</td>\n",
       "      <td>0.0</td>\n",
       "      <td>0.0</td>\n",
       "      <td>40532.10</td>\n",
       "    </tr>\n",
       "    <tr>\n",
       "      <th>1</th>\n",
       "      <td>5</td>\n",
       "      <td>2</td>\n",
       "      <td>35</td>\n",
       "      <td>0.0</td>\n",
       "      <td>0.0</td>\n",
       "      <td>0.0</td>\n",
       "      <td>0.0</td>\n",
       "      <td>0.0</td>\n",
       "      <td>0.0</td>\n",
       "      <td>0.0</td>\n",
       "      <td>...</td>\n",
       "      <td>0.0</td>\n",
       "      <td>0.0</td>\n",
       "      <td>0.0</td>\n",
       "      <td>0.0</td>\n",
       "      <td>0.0</td>\n",
       "      <td>0.0</td>\n",
       "      <td>0.0</td>\n",
       "      <td>0.0</td>\n",
       "      <td>0.0</td>\n",
       "      <td>45486.72</td>\n",
       "    </tr>\n",
       "    <tr>\n",
       "      <th>2</th>\n",
       "      <td>6</td>\n",
       "      <td>2</td>\n",
       "      <td>23</td>\n",
       "      <td>0.0</td>\n",
       "      <td>0.0</td>\n",
       "      <td>0.0</td>\n",
       "      <td>0.0</td>\n",
       "      <td>0.0</td>\n",
       "      <td>0.0</td>\n",
       "      <td>0.0</td>\n",
       "      <td>...</td>\n",
       "      <td>0.0</td>\n",
       "      <td>0.0</td>\n",
       "      <td>0.0</td>\n",
       "      <td>0.0</td>\n",
       "      <td>0.0</td>\n",
       "      <td>0.0</td>\n",
       "      <td>0.0</td>\n",
       "      <td>0.0</td>\n",
       "      <td>0.0</td>\n",
       "      <td>46993.95</td>\n",
       "    </tr>\n",
       "    <tr>\n",
       "      <th>3</th>\n",
       "      <td>7</td>\n",
       "      <td>2</td>\n",
       "      <td>24</td>\n",
       "      <td>0.0</td>\n",
       "      <td>0.0</td>\n",
       "      <td>0.0</td>\n",
       "      <td>0.0</td>\n",
       "      <td>0.0</td>\n",
       "      <td>0.0</td>\n",
       "      <td>0.0</td>\n",
       "      <td>...</td>\n",
       "      <td>0.0</td>\n",
       "      <td>0.0</td>\n",
       "      <td>0.0</td>\n",
       "      <td>0.0</td>\n",
       "      <td>0.0</td>\n",
       "      <td>0.0</td>\n",
       "      <td>0.0</td>\n",
       "      <td>0.0</td>\n",
       "      <td>0.0</td>\n",
       "      <td>187898.61</td>\n",
       "    </tr>\n",
       "    <tr>\n",
       "      <th>4</th>\n",
       "      <td>9</td>\n",
       "      <td>2</td>\n",
       "      <td>23</td>\n",
       "      <td>0.0</td>\n",
       "      <td>0.0</td>\n",
       "      <td>0.0</td>\n",
       "      <td>0.0</td>\n",
       "      <td>0.0</td>\n",
       "      <td>0.0</td>\n",
       "      <td>0.0</td>\n",
       "      <td>...</td>\n",
       "      <td>0.0</td>\n",
       "      <td>0.0</td>\n",
       "      <td>0.0</td>\n",
       "      <td>0.0</td>\n",
       "      <td>0.0</td>\n",
       "      <td>0.0</td>\n",
       "      <td>0.0</td>\n",
       "      <td>0.0</td>\n",
       "      <td>0.0</td>\n",
       "      <td>73649.73</td>\n",
       "    </tr>\n",
       "  </tbody>\n",
       "</table>\n",
       "<p>5 rows × 370 columns</p>\n",
       "</div>"
      ],
      "text/plain": [
       "   ID  var3  var15  imp_ent_var16_ult1  imp_op_var39_comer_ult1  \\\n",
       "0   2     2     32                 0.0                      0.0   \n",
       "1   5     2     35                 0.0                      0.0   \n",
       "2   6     2     23                 0.0                      0.0   \n",
       "3   7     2     24                 0.0                      0.0   \n",
       "4   9     2     23                 0.0                      0.0   \n",
       "\n",
       "   imp_op_var39_comer_ult3  imp_op_var40_comer_ult1  imp_op_var40_comer_ult3  \\\n",
       "0                      0.0                      0.0                      0.0   \n",
       "1                      0.0                      0.0                      0.0   \n",
       "2                      0.0                      0.0                      0.0   \n",
       "3                      0.0                      0.0                      0.0   \n",
       "4                      0.0                      0.0                      0.0   \n",
       "\n",
       "   imp_op_var40_efect_ult1  imp_op_var40_efect_ult3  ...  \\\n",
       "0                      0.0                      0.0  ...   \n",
       "1                      0.0                      0.0  ...   \n",
       "2                      0.0                      0.0  ...   \n",
       "3                      0.0                      0.0  ...   \n",
       "4                      0.0                      0.0  ...   \n",
       "\n",
       "   saldo_medio_var29_ult3  saldo_medio_var33_hace2  saldo_medio_var33_hace3  \\\n",
       "0                     0.0                      0.0                      0.0   \n",
       "1                     0.0                      0.0                      0.0   \n",
       "2                     0.0                      0.0                      0.0   \n",
       "3                     0.0                      0.0                      0.0   \n",
       "4                     0.0                      0.0                      0.0   \n",
       "\n",
       "   saldo_medio_var33_ult1  saldo_medio_var33_ult3  saldo_medio_var44_hace2  \\\n",
       "0                     0.0                     0.0                      0.0   \n",
       "1                     0.0                     0.0                      0.0   \n",
       "2                     0.0                     0.0                      0.0   \n",
       "3                     0.0                     0.0                      0.0   \n",
       "4                     0.0                     0.0                      0.0   \n",
       "\n",
       "   saldo_medio_var44_hace3  saldo_medio_var44_ult1  saldo_medio_var44_ult3  \\\n",
       "0                      0.0                     0.0                     0.0   \n",
       "1                      0.0                     0.0                     0.0   \n",
       "2                      0.0                     0.0                     0.0   \n",
       "3                      0.0                     0.0                     0.0   \n",
       "4                      0.0                     0.0                     0.0   \n",
       "\n",
       "       var38  \n",
       "0   40532.10  \n",
       "1   45486.72  \n",
       "2   46993.95  \n",
       "3  187898.61  \n",
       "4   73649.73  \n",
       "\n",
       "[5 rows x 370 columns]"
      ]
     },
     "execution_count": 3,
     "metadata": {},
     "output_type": "execute_result"
    }
   ],
   "source": [
    "test = pd.read_csv('test.csv')\n",
    "test.head()"
   ]
  },
  {
   "cell_type": "code",
   "execution_count": 4,
   "id": "eecee54a",
   "metadata": {},
   "outputs": [],
   "source": [
    "X = train.drop('TARGET', axis=1)\n",
    "y = train['TARGET']"
   ]
  },
  {
   "cell_type": "code",
   "execution_count": 5,
   "id": "36ed893b",
   "metadata": {},
   "outputs": [],
   "source": [
    "# Function to resample the data\n",
    "def res(X,y,ratio):\n",
    "  resample = NearMiss(version=1, n_neighbors=3, sampling_strategy=ratio)\n",
    "  X_sam, y_sam = resample.fit_resample(X,y)\n",
    "  counter = Counter(y_sam)\n",
    "  print(counter)\n",
    "  return X_sam, y_sam"
   ]
  },
  {
   "cell_type": "code",
   "execution_count": 6,
   "id": "8054c07a",
   "metadata": {},
   "outputs": [
    {
     "name": "stdout",
     "output_type": "stream",
     "text": [
      "Counter({0: 3008, 1: 3008})\n",
      "Counter({0: 6016, 1: 3008})\n",
      "Counter({0: 10026, 1: 3008})\n"
     ]
    }
   ],
   "source": [
    "# Creating datasets with different ratio of data\n",
    "X_train_1, y_train_1 = res(X, y, 1)\n",
    "X_train_2, y_train_2 = res(X, y, 0.5)\n",
    "X_train_3, y_train_3 = res(X, y, 0.3)"
   ]
  },
  {
   "cell_type": "code",
   "execution_count": 7,
   "id": "48dbe0a3",
   "metadata": {},
   "outputs": [],
   "source": [
    "# Feature selection using Genetic Algorithm for differently sized datasets\n",
    "dt1 = DecisionTreeClassifier(random_state=0)\n",
    "model1 = GeneticSelectionCV(\n",
    "    dt1, cv=3, verbose=0,\n",
    "    scoring=\"accuracy\", max_features=25,\n",
    "    n_population=100, crossover_proba=0.2,\n",
    "    mutation_proba=0.8, n_generations=100,\n",
    "    crossover_independent_proba=0.5,\n",
    "    mutation_independent_proba=0.04,\n",
    "    tournament_size=3, n_gen_no_change=10,\n",
    "    caching=True, n_jobs=-1)\n",
    "model1 = model1.fit(X_train_1, y_train_1)\n",
    "\n",
    "dt2 = DecisionTreeClassifier(random_state=0)\n",
    "model2 = GeneticSelectionCV(\n",
    "    dt2, cv=3, verbose=0,\n",
    "    scoring=\"accuracy\", max_features=25,\n",
    "    n_population=100, crossover_proba=0.2,\n",
    "    mutation_proba=0.8, n_generations=100,\n",
    "    crossover_independent_proba=0.5,\n",
    "    mutation_independent_proba=0.04,\n",
    "    tournament_size=3, n_gen_no_change=10,\n",
    "    caching=True, n_jobs=-1)\n",
    "model2 = model2.fit(X_train_2, y_train_2)\n",
    "\n",
    "dt3 = DecisionTreeClassifier(random_state=0)\n",
    "model3 = GeneticSelectionCV(\n",
    "    dt3, cv=3, verbose=0,\n",
    "    scoring=\"accuracy\", max_features=25,\n",
    "    n_population=100, crossover_proba=0.2,\n",
    "    mutation_proba=0.8, n_generations=100,\n",
    "    crossover_independent_proba=0.5,\n",
    "    mutation_independent_proba=0.04,\n",
    "    tournament_size=3, n_gen_no_change=10,\n",
    "    caching=True, n_jobs=-1)\n",
    "model3 = model3.fit(X_train_3, y_train_3)"
   ]
  },
  {
   "cell_type": "code",
   "execution_count": 8,
   "id": "90fc772e",
   "metadata": {},
   "outputs": [
    {
     "name": "stdout",
     "output_type": "stream",
     "text": [
      "[ 17  28  38  55  76  92 131 135 178 209 222 233 247 260 265 270 271 289\n",
      " 323 347 369]\n",
      "[ 17  39  67  99 100 102 119 175 185 193 209 210 211 219 223 240 247 285\n",
      " 303 322 333 369]\n",
      "[ 47  50  62  86  94 116 147 155 170 182 194 212 229 240 249 260 294 307\n",
      " 344 354 369]\n"
     ]
    }
   ],
   "source": [
    "# Selected features for the different datasets\n",
    "col1 = model1.get_support(indices=True)\n",
    "print(col1)\n",
    "col2 = model2.get_support(indices=True)\n",
    "print(col2)\n",
    "col3 = model3.get_support(indices=True)\n",
    "print(col3)"
   ]
  },
  {
   "cell_type": "code",
   "execution_count": 9,
   "id": "c430686c",
   "metadata": {},
   "outputs": [],
   "source": [
    "# Feature selection using Genetic Algorithm for differently sized datasets\n",
    "gb = GradientBoostingClassifier(random_state=0)\n",
    "model_1 = GeneticSelectionCV(\n",
    "    gb, cv=3, verbose=0,\n",
    "    scoring=\"accuracy\", max_features=25,\n",
    "    n_population=100, crossover_proba=0.2,\n",
    "    mutation_proba=0.8, n_generations=100,\n",
    "    crossover_independent_proba=0.5,\n",
    "    mutation_independent_proba=0.04,\n",
    "    tournament_size=3, n_gen_no_change=10,\n",
    "    caching=True, n_jobs=-1)\n",
    "model_1 = model_1.fit(X_train_1, y_train_1)\n",
    "\n",
    "model_2 = GeneticSelectionCV(\n",
    "    gb, cv=3, verbose=0,\n",
    "    scoring=\"accuracy\", max_features=50,\n",
    "    n_population=100, crossover_proba=0.2,\n",
    "    mutation_proba=0.8, n_generations=100,\n",
    "    crossover_independent_proba=0.5,\n",
    "    mutation_independent_proba=0.04,\n",
    "    tournament_size=3, n_gen_no_change=10,\n",
    "    caching=True, n_jobs=-1)\n",
    "model_2 = model_2.fit(X_train_2, y_train_2)\n",
    "\n",
    "model_3 = GeneticSelectionCV(\n",
    "    gb, cv=3, verbose=0,\n",
    "    scoring=\"accuracy\", max_features=50,\n",
    "    n_population=100, crossover_proba=0.2,\n",
    "    mutation_proba=0.8, n_generations=100,\n",
    "    crossover_independent_proba=0.5,\n",
    "    mutation_independent_proba=0.04,\n",
    "    tournament_size=3, n_gen_no_change=10,\n",
    "    caching=True, n_jobs=-1)\n",
    "model_3 = model_3.fit(X_train_3, y_train_3)"
   ]
  },
  {
   "cell_type": "code",
   "execution_count": 10,
   "id": "61c70f4a",
   "metadata": {},
   "outputs": [
    {
     "name": "stdout",
     "output_type": "stream",
     "text": [
      "[  3  42  44  47  60  63  66 115 123 128 148 157 160 161 165 168 170 213\n",
      " 229 260 278 286 293 335 369]\n",
      "[ 10  13  30  37  44  54  55  60  65 103 121 128 135 137 138 139 147 149\n",
      " 152 155 157 177 183 184 187 191 196 211 215 219 232 236 256 267 272 274\n",
      " 275 280 282 290 296 302 303 310 312 315 336 340 343 369]\n",
      "[ 47  50  62  86  94 116 147 155 170 182 194 212 229 240 249 260 294 307\n",
      " 344 354 369]\n"
     ]
    }
   ],
   "source": [
    "# Selected features for the different datasets\n",
    "col_1 = model_1.get_support(indices=True)\n",
    "print(col_1)\n",
    "col_2 = model_2.get_support(indices=True)\n",
    "print(col_2)\n",
    "col_3 = model_3.get_support(indices=True)\n",
    "print(col3)"
   ]
  },
  {
   "cell_type": "code",
   "execution_count": 11,
   "id": "b3d84b33",
   "metadata": {},
   "outputs": [
    {
     "name": "stdout",
     "output_type": "stream",
     "text": [
      "[2, 25, 74, 75, 76, 91, 126, 127, 130, 131, 255, 256, 257, 258, 260, 275, 278, 279, 280, 281, 293, 299, 324, 326, 327]\n",
      "[2, 25, 64, 91, 126, 127, 130, 131, 159, 255, 256, 257, 258, 260, 278, 279, 280, 281, 293, 299, 301, 303, 324, 326, 327]\n",
      "[2, 15, 18, 25, 64, 91, 126, 127, 130, 131, 139, 159, 256, 257, 258, 278, 280, 281, 293, 299, 300, 301, 302, 303, 327]\n"
     ]
    }
   ],
   "source": [
    "# Using SelectKBest to get the 25 best features\n",
    "selector1 = SelectKBest(k=25)\n",
    "\n",
    "selector1.fit_transform(X_train_1, y_train_1)\n",
    "\n",
    "feature1_25 = selector1.get_support(indices=True).tolist()\n",
    "print(feature1_25)\n",
    "\n",
    "selector2 = SelectKBest(k=25)\n",
    "\n",
    "selector2.fit_transform(X_train_2, y_train_2)\n",
    "\n",
    "feature2_25 = selector2.get_support(indices=True).tolist()\n",
    "print(feature2_25)\n",
    "\n",
    "selector3 = SelectKBest(k=25)\n",
    "\n",
    "selector3.fit_transform(X_train_3, y_train_3)\n",
    "\n",
    "feature3_25 = selector3.get_support(indices=True).tolist()\n",
    "print(feature3_25)"
   ]
  },
  {
   "cell_type": "code",
   "execution_count": 12,
   "id": "6b809b22",
   "metadata": {},
   "outputs": [
    {
     "name": "stdout",
     "output_type": "stream",
     "text": [
      "[2, 5, 12, 14, 15, 17, 18, 25, 28, 29, 53, 64, 74, 75, 76, 91, 94, 95, 124, 126, 127, 128, 130, 131, 159, 255, 256, 257, 258, 259, 260, 275, 276, 278, 279, 280, 281, 292, 293, 298, 299, 300, 301, 302, 303, 312, 324, 325, 326, 327]\n",
      "[2, 5, 12, 14, 15, 17, 18, 25, 28, 29, 53, 64, 74, 75, 76, 91, 94, 95, 124, 126, 127, 128, 130, 131, 139, 159, 255, 256, 257, 258, 259, 260, 275, 276, 278, 279, 280, 281, 292, 293, 298, 299, 300, 301, 302, 303, 312, 324, 326, 327]\n",
      "[2, 5, 12, 13, 14, 15, 16, 17, 18, 24, 25, 28, 29, 51, 53, 54, 64, 91, 94, 95, 124, 126, 127, 128, 130, 131, 139, 159, 255, 256, 257, 258, 260, 278, 279, 280, 281, 282, 292, 293, 298, 299, 300, 301, 302, 303, 312, 324, 326, 327]\n"
     ]
    }
   ],
   "source": [
    "# Using SelectKBest to get the 50 best features\n",
    "selector1 = SelectKBest(k=50)\n",
    "\n",
    "selector1.fit_transform(X_train_1, y_train_1)\n",
    "\n",
    "feature1_50 = selector1.get_support(indices=True).tolist()\n",
    "print(feature1_50)\n",
    "\n",
    "selector2 = SelectKBest(k=50)\n",
    "\n",
    "selector2.fit_transform(X_train_2, y_train_2)\n",
    "\n",
    "feature2_50 = selector2.get_support(indices=True).tolist()\n",
    "print(feature2_50)\n",
    "\n",
    "selector3 = SelectKBest(k=50)\n",
    "\n",
    "selector3.fit_transform(X_train_3, y_train_3)\n",
    "\n",
    "feature3_50 = selector3.get_support(indices=True).tolist()\n",
    "print(feature3_50)"
   ]
  },
  {
   "cell_type": "code",
   "execution_count": 13,
   "id": "81ce27af",
   "metadata": {},
   "outputs": [],
   "source": [
    "# Function to compare selected features\n",
    "def common_features(list1, list2):\n",
    "    return [element for element in list1 if element in list2]"
   ]
  },
  {
   "cell_type": "code",
   "execution_count": 14,
   "id": "cdc22d19",
   "metadata": {},
   "outputs": [
    {
     "data": {
      "text/plain": [
       "[128, 256, 275, 280, 302, 303, 312]"
      ]
     },
     "execution_count": 14,
     "metadata": {},
     "output_type": "execute_result"
    }
   ],
   "source": [
    "common_features(col_2,feature1_50)"
   ]
  },
  {
   "cell_type": "code",
   "execution_count": 15,
   "id": "a81a503f",
   "metadata": {},
   "outputs": [
    {
     "data": {
      "text/plain": [
       "[128, 139, 256, 275, 280, 302, 303, 312]"
      ]
     },
     "execution_count": 15,
     "metadata": {},
     "output_type": "execute_result"
    }
   ],
   "source": [
    "common_features(col_2,feature2_50)"
   ]
  },
  {
   "cell_type": "code",
   "execution_count": 16,
   "id": "76bd8e81",
   "metadata": {},
   "outputs": [
    {
     "data": {
      "text/plain": [
       "[16, 130, 139, 301]"
      ]
     },
     "execution_count": 16,
     "metadata": {},
     "output_type": "execute_result"
    }
   ],
   "source": [
    "common_features(col_3,feature3_50)"
   ]
  },
  {
   "cell_type": "code",
   "execution_count": 17,
   "id": "2026ea38",
   "metadata": {},
   "outputs": [],
   "source": [
    "X_feat_25 = X_train_1.iloc[:,feature1_25]\n",
    "X_feat_50 = X_train_1.iloc[:,feature1_50]"
   ]
  },
  {
   "cell_type": "code",
   "execution_count": 18,
   "id": "d3bd2dda",
   "metadata": {},
   "outputs": [
    {
     "name": "stdout",
     "output_type": "stream",
     "text": [
      "0    73012\n",
      "1     3008\n",
      "Name: TARGET, dtype: int64\n",
      "0    73012\n",
      "1    73012\n",
      "Name: TARGET, dtype: int64\n"
     ]
    }
   ],
   "source": [
    "# Using SMOTE to balance the original dataset\n",
    "\n",
    "smote = SMOTE(random_state = 42)\n",
    "\n",
    "X_res, y_res = smote.fit_resample(X, y)\n",
    "print(y.value_counts())\n",
    "print(y_res.value_counts())"
   ]
  },
  {
   "cell_type": "code",
   "execution_count": 19,
   "id": "83a0b4a5",
   "metadata": {},
   "outputs": [],
   "source": [
    "X_train_1_25 = X_res.iloc[:,feature1_25]\n",
    "X_train_1_50 = X_res.iloc[:,feature1_50]"
   ]
  },
  {
   "cell_type": "code",
   "execution_count": 20,
   "id": "2f59b4f8",
   "metadata": {},
   "outputs": [],
   "source": [
    "test_25 = test.iloc[:,feature1_25]\n",
    "test_50 = test.iloc[:,feature1_50]"
   ]
  },
  {
   "cell_type": "code",
   "execution_count": 21,
   "id": "6eccac89",
   "metadata": {},
   "outputs": [],
   "source": [
    "# Tuning the hyperparameters using Genetic Search for Random Forest Classifer \n",
    "clf = RandomForestClassifier()\n",
    "param_grid = {'max_leaf_nodes': Integer(2, 35), \n",
    "              'n_estimators': Integer(100, 300)}"
   ]
  },
  {
   "cell_type": "code",
   "execution_count": 22,
   "id": "8de4a305",
   "metadata": {},
   "outputs": [],
   "source": [
    "cv = StratifiedKFold(n_splits=3, shuffle=True)\n",
    "\n",
    "evolved_estimator = GASearchCV(estimator=clf,\n",
    "                               cv=cv,\n",
    "                               scoring='accuracy',\n",
    "                               population_size=10,\n",
    "                               generations=35,\n",
    "                               tournament_size=3,\n",
    "                               elitism=True,\n",
    "                               crossover_probability=0.8,\n",
    "                               mutation_probability=0.1,\n",
    "                               param_grid=param_grid,\n",
    "                               criteria='max',\n",
    "                               algorithm='eaMuPlusLambda',\n",
    "                               n_jobs=-1,\n",
    "                               verbose=True,\n",
    "                               keep_top_k=4)"
   ]
  },
  {
   "cell_type": "code",
   "execution_count": 23,
   "id": "1798afaa",
   "metadata": {},
   "outputs": [
    {
     "name": "stdout",
     "output_type": "stream",
     "text": [
      "gen\tnevals\tfitness \tfitness_std\tfitness_max\tfitness_min\n",
      "0  \t10    \t0.765658\t0.00281731 \t0.769779   \t0.760306   \n",
      "1  \t19    \t0.767287\t0.00160572 \t0.769779   \t0.763798   \n",
      "2  \t20    \t0.768151\t0.00046303 \t0.768949   \t0.767453   \n",
      "3  \t16    \t0.768217\t0.000677969\t0.768949   \t0.766457   \n",
      "4  \t19    \t0.768616\t0.000148839\t0.768949   \t0.76845    \n",
      "5  \t18    \t0.768334\t0.000931669\t0.770114   \t0.766955   \n",
      "6  \t17    \t0.768069\t0.000724461\t0.768948   \t0.766956   \n",
      "7  \t17    \t0.768118\t0.000594287\t0.76895    \t0.767287   \n",
      "8  \t17    \t0.768651\t0.000370767\t0.76895    \t0.767619   \n",
      "9  \t16    \t0.768667\t0.000433651\t0.769446   \t0.767786   \n",
      "10 \t17    \t0.768601\t0.000582421\t0.769446   \t0.767123   \n",
      "11 \t19    \t0.768617\t0.000643171\t0.769446   \t0.767123   \n",
      "12 \t18    \t0.769099\t0.000365753\t0.769446   \t0.768452   \n",
      "13 \t19    \t0.768699\t0.00109037 \t0.769615   \t0.766621   \n",
      "14 \t17    \t0.768949\t0.000913227\t0.769615   \t0.767122   \n",
      "15 \t18    \t0.768616\t0.0010085  \t0.769615   \t0.766787   \n",
      "16 \t19    \t0.768617\t0.000697633\t0.769615   \t0.767452   \n",
      "17 \t19    \t0.768584\t0.000985547\t0.770446   \t0.766625   \n",
      "18 \t19    \t0.768616\t0.000669576\t0.770446   \t0.767951   \n",
      "19 \t15    \t0.769048\t0.00094478 \t0.770446   \t0.768283   \n",
      "20 \t19    \t0.769149\t0.00118233 \t0.770446   \t0.766289   \n",
      "21 \t16    \t0.769215\t0.00160209 \t0.770446   \t0.764793   \n",
      "22 \t18    \t0.768983\t0.000939755\t0.770446   \t0.767453   \n",
      "23 \t15    \t0.768933\t0.000950688\t0.770446   \t0.767286   \n",
      "24 \t18    \t0.768068\t0.000841672\t0.769116   \t0.766954   \n",
      "25 \t19    \t0.767869\t0.000777212\t0.769116   \t0.766457   \n",
      "26 \t18    \t0.768567\t0.000541489\t0.769116   \t0.76762    \n",
      "27 \t19    \t0.768866\t0.000645363\t0.769447   \t0.76712    \n",
      "28 \t19    \t0.76875 \t0.000669055\t0.769116   \t0.76712    \n",
      "29 \t19    \t0.7691  \t8.864e-05  \t0.76928    \t0.768951   \n",
      "30 \t18    \t0.768834\t0.00104954 \t0.769948   \t0.765789   \n",
      "31 \t17    \t0.76885 \t0.000748277\t0.769948   \t0.767454   \n",
      "32 \t14    \t0.769199\t0.000674707\t0.769948   \t0.768284   \n",
      "33 \t18    \t0.769315\t0.000594623\t0.769948   \t0.76845    \n",
      "34 \t17    \t0.769265\t0.000771482\t0.769948   \t0.767618   \n",
      "35 \t18    \t0.769465\t0.000687532\t0.769948   \t0.76812    \n"
     ]
    },
    {
     "data": {
      "text/plain": [
       "GASearchCV(crossover_probability=0.8,\n",
       "           cv=StratifiedKFold(n_splits=3, random_state=None, shuffle=True),\n",
       "           estimator=RandomForestClassifier(max_leaf_nodes=18,\n",
       "                                            n_estimators=264),\n",
       "           generations=35, keep_top_k=4, mutation_probability=0.1, n_jobs=-1,\n",
       "           param_grid={'max_leaf_nodes': <sklearn_genetic.space.space.Integer object at 0x7fee307e4040>,\n",
       "                       'n_estimators': <sklearn_genetic.space.space.Integer object at 0x7fee307e41f0>},\n",
       "           population_size=10, return_train_score=True, scoring='accuracy')"
      ]
     },
     "execution_count": 23,
     "metadata": {},
     "output_type": "execute_result"
    }
   ],
   "source": [
    "# Fitting the model on the dataset with feature selection\n",
    "evolved_estimator.fit(X_feat_25,y_train_1)"
   ]
  },
  {
   "cell_type": "code",
   "execution_count": 24,
   "id": "b7b7f8ad",
   "metadata": {},
   "outputs": [
    {
     "data": {
      "text/plain": [
       "{'max_leaf_nodes': 18, 'n_estimators': 264}"
      ]
     },
     "execution_count": 24,
     "metadata": {},
     "output_type": "execute_result"
    }
   ],
   "source": [
    "# Hyperparameters selected using Genetic Search for Random Forest Classifier\n",
    "evolved_estimator.best_params_"
   ]
  },
  {
   "cell_type": "code",
   "execution_count": 25,
   "id": "eaae930d",
   "metadata": {},
   "outputs": [],
   "source": [
    "# Tuning the hyperparameters using Genetic Search for Decision Tree Classifier \n",
    "clf2 = DecisionTreeClassifier()\n",
    "param_grid = {'min_weight_fraction_leaf': Continuous(0.01, 0.5, distribution='log-uniform'),\n",
    "              'max_leaf_nodes': Integer(2, 35), \n",
    "              'min_samples_split': Integer(2,10),\n",
    "              'criterion': Categorical(['entropy', 'gini'])}"
   ]
  },
  {
   "cell_type": "code",
   "execution_count": 26,
   "id": "7077547f",
   "metadata": {},
   "outputs": [],
   "source": [
    "cv = StratifiedKFold(n_splits=3, shuffle=True)\n",
    "\n",
    "evolved_estimator2 = GASearchCV(estimator=clf2,\n",
    "                               cv=cv,\n",
    "                               scoring='accuracy',\n",
    "                               population_size=10,\n",
    "                               generations=35,\n",
    "                               tournament_size=3,\n",
    "                               elitism=True,\n",
    "                               crossover_probability=0.8,\n",
    "                               mutation_probability=0.1,\n",
    "                               param_grid=param_grid,\n",
    "                               criteria='max',\n",
    "                               algorithm='eaMuPlusLambda',\n",
    "                               n_jobs=-1,\n",
    "                               verbose=True,\n",
    "                               keep_top_k=4)"
   ]
  },
  {
   "cell_type": "code",
   "execution_count": 27,
   "id": "d04d1aae",
   "metadata": {},
   "outputs": [
    {
     "name": "stdout",
     "output_type": "stream",
     "text": [
      "gen\tnevals\tfitness \tfitness_std\tfitness_max\tfitness_min\n",
      "0  \t10    \t0.748321\t0.00413971 \t0.756815   \t0.745677   \n",
      "1  \t18    \t0.755253\t0.00339527 \t0.75698    \t0.745679   \n",
      "2  \t18    \t0.756699\t0.000340453\t0.75698    \t0.755819   \n",
      "3  \t19    \t0.75728 \t0.00065625 \t0.759144   \t0.756815   \n",
      "4  \t20    \t0.757497\t0.00128075 \t0.759144   \t0.75482    \n",
      "5  \t18    \t0.757863\t0.00110378 \t0.759144   \t0.756648   \n",
      "6  \t18    \t0.757048\t0.00149156 \t0.759144   \t0.754987   \n",
      "7  \t19    \t0.757165\t0.00135811 \t0.759144   \t0.75532    \n",
      "8  \t19    \t0.757231\t0.00141184 \t0.759144   \t0.755484   \n",
      "9  \t17    \t0.757746\t0.00116958 \t0.759144   \t0.75615    \n",
      "10 \t17    \t0.757763\t0.00113815 \t0.759144   \t0.756648   \n",
      "11 \t18    \t0.757879\t0.00107649 \t0.759144   \t0.756649   \n",
      "12 \t16    \t0.757431\t0.000992374\t0.759144   \t0.756152   \n",
      "13 \t18    \t0.758029\t0.00076605 \t0.759144   \t0.756981   \n",
      "14 \t19    \t0.757962\t0.00096533 \t0.759144   \t0.756317   \n",
      "15 \t19    \t0.75763 \t0.00148254 \t0.759144   \t0.755319   \n",
      "16 \t18    \t0.758196\t0.00129745 \t0.759144   \t0.755482   \n",
      "17 \t18    \t0.758013\t0.00125933 \t0.759144   \t0.755319   \n",
      "18 \t18    \t0.75808 \t0.00099022 \t0.759144   \t0.755817   \n",
      "19 \t19    \t0.758428\t0.000970427\t0.759144   \t0.755817   \n",
      "20 \t17    \t0.758761\t0.000447206\t0.759144   \t0.757977   \n",
      "21 \t15    \t0.759044\t0.0001998  \t0.759144   \t0.758645   \n",
      "22 \t17    \t0.758545\t0.000970399\t0.759144   \t0.756483   \n",
      "23 \t18    \t0.758978\t0.000364873\t0.759144   \t0.757978   \n",
      "24 \t17    \t0.758845\t0.000746973\t0.759144   \t0.756649   \n",
      "25 \t20    \t0.758579\t0.00104181 \t0.759144   \t0.755652   \n",
      "26 \t17    \t0.758163\t0.00120276 \t0.759144   \t0.755984   \n",
      "27 \t18    \t0.758146\t0.00104669 \t0.759144   \t0.756484   \n",
      "28 \t19    \t0.758246\t0.00123182 \t0.759144   \t0.755485   \n",
      "29 \t16    \t0.758313\t0.0011853  \t0.759144   \t0.756151   \n",
      "30 \t19    \t0.75783 \t0.00134433 \t0.759144   \t0.755817   \n",
      "31 \t19    \t0.75788 \t0.00138239 \t0.759144   \t0.755817   \n",
      "32 \t17    \t0.75828 \t0.00133179 \t0.759144   \t0.755817   \n",
      "33 \t18    \t0.758296\t0.00109937 \t0.759144   \t0.756486   \n",
      "34 \t16    \t0.758512\t0.00103883 \t0.759144   \t0.756315   \n",
      "35 \t17    \t0.758661\t0.000813554\t0.759144   \t0.756649   \n"
     ]
    },
    {
     "data": {
      "text/plain": [
       "GASearchCV(crossover_probability=0.8,\n",
       "           cv=StratifiedKFold(n_splits=3, random_state=None, shuffle=True),\n",
       "           estimator=DecisionTreeClassifier(criterion='entropy',\n",
       "                                            max_leaf_nodes=33,\n",
       "                                            min_samples_split=10,\n",
       "                                            min_weight_fraction_leaf=0.03660952020509553),\n",
       "           generations=35, keep_top_k=4, mutation_probability=0.1, n_jobs=-1,\n",
       "           param_grid={'criterion': <sklearn_genetic.space.space.Categorical object at 0x7fee0182eeb0>,\n",
       "                       'max_leaf_nodes': <sklearn_genetic.space.space.Integer object at 0x7fee0182e8e0>,\n",
       "                       'min_samples_split': <sklearn_genetic.space.space.Integer object at 0x7fee0182e9a0>,\n",
       "                       'min_weight_fraction_leaf': <sklearn_genetic.space.space.Continuous object at 0x7fee25cd7400>},\n",
       "           population_size=10, return_train_score=True, scoring='accuracy')"
      ]
     },
     "execution_count": 27,
     "metadata": {},
     "output_type": "execute_result"
    }
   ],
   "source": [
    "# Fitting the model on the dataset with feature selection\n",
    "evolved_estimator2.fit(X_feat_25,y_train_1)"
   ]
  },
  {
   "cell_type": "code",
   "execution_count": 28,
   "id": "e3d6628e",
   "metadata": {},
   "outputs": [
    {
     "data": {
      "text/plain": [
       "{'min_weight_fraction_leaf': 0.03660952020509553,\n",
       " 'max_leaf_nodes': 33,\n",
       " 'min_samples_split': 10,\n",
       " 'criterion': 'entropy'}"
      ]
     },
     "execution_count": 28,
     "metadata": {},
     "output_type": "execute_result"
    }
   ],
   "source": [
    "# Hyperparameter selected using Genetic Search for Decision Tree Classifier\n",
    "evolved_estimator2.best_params_"
   ]
  },
  {
   "cell_type": "code",
   "execution_count": 29,
   "id": "3e09ce73",
   "metadata": {},
   "outputs": [],
   "source": [
    "# Initializing models using the hyperparameters obtained\n",
    "model1 = RandomForestClassifier(max_leaf_nodes=18, n_estimators=264)\n",
    "\n",
    "model2 = DecisionTreeClassifier(min_weight_fraction_leaf=0.03660952020509553,\n",
    " max_leaf_nodes=33,\n",
    " min_samples_split=10,\n",
    " criterion=\"entropy\")"
   ]
  },
  {
   "cell_type": "code",
   "execution_count": 30,
   "id": "1390716c",
   "metadata": {},
   "outputs": [],
   "source": [
    "# Predicting the models on the different test datasets\n",
    "model1.fit(X_train_1_25,y_res)\n",
    "pred_rf_25 = model1.predict_proba(test_25)\n",
    "\n",
    "model1.fit(X_train_1_50,y_res)\n",
    "pred_rf_50 = model1.predict_proba(test_50)"
   ]
  },
  {
   "cell_type": "code",
   "execution_count": 31,
   "id": "d4aaed38",
   "metadata": {},
   "outputs": [],
   "source": [
    "# Predicting the models on the different test datasets\n",
    "model2.fit(X_train_1_25,y_res)\n",
    "pred_dt_25 = model2.predict_proba(test_25)\n",
    "\n",
    "model2.fit(X_train_1_50,y_res)\n",
    "pred_dt_50 = model2.predict_proba(test_50)"
   ]
  },
  {
   "cell_type": "code",
   "execution_count": 32,
   "id": "c390e3cf",
   "metadata": {},
   "outputs": [],
   "source": [
    "# Preparing the submission files for Kaggle\n",
    "train_df = train.copy()\n",
    "test_df = test.copy()\n",
    "train_id = train_df['ID']\n",
    "test_id = test['ID']\n",
    "train_df.drop('ID', axis=1, inplace=True)\n",
    "test_df.drop('ID', axis=1, inplace=True)\n",
    "test_df = test_df[X_train_1_25.columns]"
   ]
  },
  {
   "cell_type": "code",
   "execution_count": 33,
   "id": "e815f588",
   "metadata": {},
   "outputs": [],
   "source": [
    "test_df_1 = test_df[X_train_1_25.columns]\n",
    "\n",
    "submission = pd.DataFrame({\"ID\":test_id, \"TARGET\": pred_dt_25[:,1]})\n",
    "submission.to_csv(\"submission.csv\", index=False)"
   ]
  },
  {
   "cell_type": "code",
   "execution_count": 34,
   "id": "a2767edc",
   "metadata": {},
   "outputs": [],
   "source": [
    "submission2 = pd.DataFrame({\"ID\":test_id, \"TARGET\": pred_rf_25[:,1]})\n",
    "submission2.to_csv(\"submission2.csv\", index=False)"
   ]
  },
  {
   "cell_type": "code",
   "execution_count": 35,
   "id": "00cd750f",
   "metadata": {},
   "outputs": [],
   "source": [
    "submission3 = pd.DataFrame({\"ID\":test_id, \"TARGET\": pred_dt_50[:,1]})\n",
    "submission3.to_csv(\"submission3.csv\", index=False)"
   ]
  },
  {
   "cell_type": "code",
   "execution_count": 36,
   "id": "8f5df625",
   "metadata": {},
   "outputs": [],
   "source": [
    "submission4 = pd.DataFrame({\"ID\":test_id, \"TARGET\": pred_rf_50[:,1]})\n",
    "submission4.to_csv(\"submission4.csv\", index=False)"
   ]
  }
 ],
 "metadata": {
  "kernelspec": {
   "display_name": "Python 3 (ipykernel)",
   "language": "python",
   "name": "python3"
  },
  "language_info": {
   "codemirror_mode": {
    "name": "ipython",
    "version": 3
   },
   "file_extension": ".py",
   "mimetype": "text/x-python",
   "name": "python",
   "nbconvert_exporter": "python",
   "pygments_lexer": "ipython3",
   "version": "3.9.12"
  }
 },
 "nbformat": 4,
 "nbformat_minor": 5
}
